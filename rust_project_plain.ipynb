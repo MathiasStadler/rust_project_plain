{
 "cells": [
  {
   "cell_type": "markdown",
   "metadata": {},
   "source": [
    "# rust project plain"
   ]
  },
  {
   "cell_type": "markdown",
   "metadata": {},
   "source": [
    "- [TOC](#toc)\n",
    "    - [Set project name](#set-project-name)\n",
    "    - [update rust system installation](#update-rust-system-installation)\n",
    "    - [init project](#init-project)\n",
    "    - - [check project directory not exists](#check-project-directory-not-exists)\n",
    "    - [setup rust](#setup-rust)\n",
    "    - [update rust of latest stable version](#update-rust)\n",
    "    - [first run Hello World](#run-hello-world)\n",
    "    - [things you need](#things-you-need)\n",
    "    - [useful link](#useful-link)\n"
   ]
  },
  {
   "cell_type": "markdown",
   "metadata": {},
   "source": [
    "### First Item\n",
    "\n",
    " First item content goes here\n",
    "\n",
    " <a id=\"item-three\"></a>"
   ]
  },
  {
   "cell_type": "markdown",
   "metadata": {},
   "source": [
    "### Update rust system installation\n",
    "<a id=\"update-rust-system-installation\"></a>\n",
    "\n",
    " ```\n",
    " # Show the active and installed toolchains or profiles\n",
    " rustup show\n",
    "\n",
    " # Update Rust toolchains and rustup\n",
    " rustup update stable\n",
    "\n",
    " "
   ]
  },
  {
   "cell_type": "markdown",
   "metadata": {},
   "source": [
    "### Set project name\n",
    "<a id=\"set-project-name\"></a>\n",
    "\n",
    "```bash\n",
    "export RUST_PROJECT=\"rust_project_plain\" &&\n",
    "echo $RUST_PROJECT\n",
    "```"
   ]
  },
  {
   "cell_type": "markdown",
   "metadata": {},
   "source": [
    "\n",
    "### init project\n",
    "<a id=\"init-project\"></a>\n",
    "\n",
    "- create project env script\n",
    "\n",
    "```bash\n",
    "cd /tmp && \n",
    "<<EOF>> create_project_env.sh cat\n",
    "pwd && # HOME directory current user\n",
    "mkdir workspace &&\n",
    "cd workspace &&\n",
    "mkdir ${RUST_PROJECT}\n",
    "cargo init ${RUST_PROJECT} &&\n",
    "cd ${RUST_PROJECT} &&\n",
    "cargo fmt --verbose &&\n",
    "cargo clippy &&\n",
    "cargo build &&\n",
    "cargo run &&\n",
    "EOF\n",
    "```"
   ]
  },
  {
   "cell_type": "markdown",
   "metadata": {},
   "source": [
    "```bash\n",
    "cd /tmp && \n",
    "<<EOF>> create_project_env.sh cat\n",
    "pwd && # HOME directory current user\n",
    "mkdir workspace &&\n",
    "cd workspace &&\n",
    "mkdir $RUST_PROJECT\n",
    "cargo init $RUST_PROJECT &&\n",
    "cd $RUST_PROJECT &&\n",
    "cargo fmt --verbose &&\n",
    "cargo clippy &&\n",
    "cargo build &&\n",
    "cargo run &&\n",
    "EOF\n",
    "```"
   ]
  },
  {
   "cell_type": "markdown",
   "metadata": {},
   "source": [
    "    ### check project directory not exists\n",
    "    <a id=\"check-project-directory-not-exists\"></a>\n",
    "\n",
    "    ```bash\n",
    "    if [[ -d \"${RUST_PROJECT}\" && ! -L \"${RUST_PROJECT}\" ]] ; then     echo \"project dir ${RUST_PROJECT} available. =>  Delete it or rename your project !!!\"; else echo \"Directory not available\"; fi\n",
    "\n",
    "    \n",
    "    ```"
   ]
  },
  {
   "cell_type": "markdown",
   "metadata": {},
   "source": [
    "### things you need\n",
    "<a id=\"things-you-need\"></a>\n",
    "\n",
    "- [Bash history without line numbers](https://stackoverflow.com/questions/7110119/bash-history-without-line-numbers)\n",
    "  \n",
    "  ```bash\n",
    "  history | cut -c 8-\n",
    "  ```\n",
    "\n",
    "- [Bash multiline input - last post](https://unix.stackexchange.com/questions/77277/how-to-append-multiple-lines-to-a-file)\n",
    "  \n",
    "```bash\n",
    "<<EOF>> your_file.sh cat \n",
    "line 1\n",
    "line 2\n",
    "EOF\n",
    "```\n",
    "\n",
    "- [Bash shell code auto formatter](https://stackoverflow.com/questions/2355834/how-can-i-autoformat-indent-c-code-in-vim)\n",
    "\n",
    "```bash\n",
    "# install\n",
    "apt-get update && \\\n",
    "apt-get install indent\n",
    "\n",
    "# run\n",
    "# indent <FILE>\n",
    "indent your_file.sh\n",
    "\n",
    "```\n"
   ]
  },
  {
   "cell_type": "markdown",
   "metadata": {},
   "source": [
    "# useful link\n",
    "<a id=\"useful-link\"></a>\n",
    "\n",
    "(commands rusts cargo)(https://opensource.com/article/20/11/commands-rusts-cargo)"
   ]
  }
 ],
 "metadata": {
  "kernelspec": {
   "display_name": "Rust",
   "language": "rust",
   "name": "rust"
  },
  "language_info": {
   "name": "rust"
  }
 },
 "nbformat": 4,
 "nbformat_minor": 2
}
