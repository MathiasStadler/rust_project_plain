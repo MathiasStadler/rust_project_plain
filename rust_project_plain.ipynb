{
 "cells": [
  {
   "cell_type": "markdown",
   "metadata": {},
   "source": [
    "# rust project plain"
   ]
  },
  {
   "cell_type": "markdown",
   "metadata": {},
   "source": [
    "- [TOC](#toc)\n",
    "    - [Set project name](#set-project-name)\n",
    "    - [update rust system installation](#update-rust-system-installation)\n",
    "    - [init project](#init-project)\n",
    "    - - [check project directory not exists](#check-project-directory-not-exists)\n",
    "    - [setup rust](#setup-rust)\n",
    "    - [update rust of latest stable version](#update-rust)\n",
    "    - [first run Hello World](#run-hello-world)\n",
    "    - [things you need](#things-you-need)\n"
   ]
  },
  {
   "cell_type": "markdown",
   "metadata": {},
   "source": [
    "### First Item\n",
    "\n",
    " First item content goes here\n",
    "\n",
    " <a id=\"item-three\"></a>"
   ]
  },
  {
   "cell_type": "markdown",
   "metadata": {},
   "source": [
    "### Update rust system installation\n",
    "<a id=\"update-rust-system-installation\"></a>\n",
    "\n",
    " ```\n",
    " # Show the active and installed toolchains or profiles\n",
    " rustup show\n",
    "\n",
    " # Update Rust toolchains and rustup\n",
    " rustup update stable\n",
    "\n",
    " "
   ]
  },
  {
   "cell_type": "markdown",
   "metadata": {},
   "source": [
    "### Set project name\n",
    "<a id=\"set-project-name\"></a>\n",
    "\n",
    "```bash\n",
    "export RUST_PROJECT=\"rust_project_plain\" &&\n",
    "echo $RUST_PROJECT\n",
    "```"
   ]
  },
  {
   "cell_type": "markdown",
   "metadata": {},
   "source": [
    "\n",
    "### init project\n",
    "<a id=\"init-project\"></a>\n",
    "\n",
    "```bash\n",
    "pwd # HOME directory current user\n",
    "cargo init $RUST_PROJECT\n",
    "cd $RUST_PROJECT\n",
    "```"
   ]
  },
  {
   "cell_type": "markdown",
   "metadata": {},
   "source": [
    "    ### check project directory not exists\n",
    "    <a id=\"check-project-directory-not-exists\"></a>\n",
    "\n",
    "    ```bash\n",
    "    if [[ -d \"${DIRECTORY}\" && ! -L \"${DIRECTORY}\" ]] ; then     echo \"It's a bona-fide directory\"; else echo \"Directory not available\"; fi\n",
    "\n",
    "    \n",
    "    ```"
   ]
  },
  {
   "cell_type": "markdown",
   "metadata": {},
   "source": [
    "### things-you-need\n",
    "<a id=\"things-you-need\"></a>\n",
    "\n",
    "- [Bash history without line numbers](https://stackoverflow.com/questions/7110119/bash-history-without-line-numbers)\n",
    "  \n",
    "  ```bash\n",
    "  history | cut -c 8-\n",
    "  ```\n",
    "\n",
    "- [Bash multiline input](https://unix.stackexchange.com/questions/77277/how-to-append-multiple-lines-to-a-file)\n",
    "  \n",
    "```bash\n",
    "<<EOF>> your_file.txt cat \n",
    "line 1\n",
    "line 2\n",
    "EOF\n",
    "```"
   ]
  }
 ],
 "metadata": {
  "kernelspec": {
   "display_name": "Rust",
   "language": "rust",
   "name": "rust"
  },
  "language_info": {
   "name": "rust"
  }
 },
 "nbformat": 4,
 "nbformat_minor": 2
}
