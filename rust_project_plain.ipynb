{
 "cells": [
  {
   "cell_type": "markdown",
   "metadata": {},
   "source": [
    "# rust project plain"
   ]
  },
  {
   "cell_type": "markdown",
   "metadata": {},
   "source": [
    "- [TOC](#toc)\n",
    "    - [Set project name](#set-project-name)\n",
    "    - [update rust system installation](#update-rust-system-installation)\n",
    "    - [init project](#init-project)\n",
    "    - - [check project directory not exists](#check-project-directory-not-exists)\n",
    "    - [setup rust](#setup-rust)\n",
    "    - [update rust of latest stable version](#update-rust)\n",
    "    - [first run Hello World](#run-hello-world)\n"
   ]
  },
  {
   "cell_type": "markdown",
   "metadata": {},
   "source": [
    "### First Item\n",
    "\n",
    " First item content goes here\n",
    "\n",
    " <a id=\"item-three\"></a>"
   ]
  },
  {
   "cell_type": "markdown",
   "metadata": {},
   "source": [
    "### Update rust system installation\n",
    "<a id=\"update-rust-system-installation\"></a>\n",
    "\n",
    " ```\n",
    " # Show the active and installed toolchains or profiles\n",
    " rustup show\n",
    "\n",
    " # Update Rust toolchains and rustup\n",
    " rustup update stable\n",
    "\n",
    " "
   ]
  },
  {
   "cell_type": "markdown",
   "metadata": {},
   "source": [
    "### Set project name\n",
    "<a id=\"set-project-name\"></a>\n",
    "\n",
    "export RUST_PROJECT=\"rust_project_plain\" &&\n",
    "echo $RUST_PROJECT"
   ]
  },
  {
   "cell_type": "markdown",
   "metadata": {},
   "source": [
    "\n",
    "### init project\n",
    "<a id=\"init-project\"></a>"
   ]
  },
  {
   "cell_type": "markdown",
   "metadata": {},
   "source": [
    "    ### check project directory not exists\n",
    "    <a id=\"check-project-directory-not-exists\"></a>\n",
    "\n",
    "    ```bash\n",
    "\n",
    "    \n",
    "    ```"
   ]
  },
  {
   "cell_type": "markdown",
   "metadata": {},
   "source": [
    "[check is project NOT exits]()"
   ]
  }
 ],
 "metadata": {
  "kernelspec": {
   "display_name": "Rust",
   "language": "rust",
   "name": "rust"
  },
  "language_info": {
   "name": "rust"
  }
 },
 "nbformat": 4,
 "nbformat_minor": 2
}
