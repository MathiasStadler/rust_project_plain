{
 "cells": [
  {
   "cell_type": "markdown",
   "metadata": {},
   "source": [
    "# rust project plain"
   ]
  },
  {
   "cell_type": "markdown",
   "metadata": {},
   "source": [
    "# TOC\n",
    "\n",
    "- [TOC](#toc)\n",
    "    - [update rust system installation](#update-rust-system-installation)\n",
    "    - [init project](#init-project)\n",
    "    - [setup rust](#setup-rust)\n",
    "    - [update rust of latest stable version](#update-rust)\n",
    "    - [first run Hello World](#run-hello-world)\n"
   ]
  },
  {
   "cell_type": "markdown",
   "metadata": {},
   "source": [
    "### First Item\n",
    "\n",
    " First item content goes here\n",
    "\n",
    " <a id=\"item-three\"></a>"
   ]
  },
  {
   "cell_type": "markdown",
   "metadata": {},
   "source": [
    "### Update rust system installation\n",
    "\n",
    " First item content goes here\n",
    "\n",
    " <a id=\"update-rust-system-installation\"></a>"
   ]
  },
  {
   "cell_type": "markdown",
   "metadata": {},
   "source": [
    "[check is project NOT exits]()"
   ]
  }
 ],
 "metadata": {
  "kernelspec": {
   "display_name": "Rust",
   "language": "rust",
   "name": "rust"
  },
  "language_info": {
   "name": "rust"
  }
 },
 "nbformat": 4,
 "nbformat_minor": 2
}
